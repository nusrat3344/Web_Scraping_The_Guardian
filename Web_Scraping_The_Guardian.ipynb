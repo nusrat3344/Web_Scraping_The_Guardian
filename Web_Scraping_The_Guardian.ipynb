{
  "nbformat": 4,
  "nbformat_minor": 0,
  "metadata": {
    "colab": {
      "name": "Web_Scraping_The_Guardian.ipynb",
      "provenance": [],
      "authorship_tag": "ABX9TyPl8TSiveWAMvIDyGGF9KJs",
      "include_colab_link": true
    },
    "kernelspec": {
      "name": "python3",
      "display_name": "Python 3"
    },
    "language_info": {
      "name": "python"
    }
  },
  "cells": [
    {
      "cell_type": "markdown",
      "metadata": {
        "id": "view-in-github",
        "colab_type": "text"
      },
      "source": [
        "<a href=\"https://colab.research.google.com/github/nusrat3344/Web_Scraping_The_Guardian/blob/main/Web_Scraping_The_Guardian.ipynb\" target=\"_parent\"><img src=\"https://colab.research.google.com/assets/colab-badge.svg\" alt=\"Open In Colab\"/></a>"
      ]
    },
    {
      "cell_type": "markdown",
      "metadata": {
        "id": "p01W3L99Pp1o"
      },
      "source": [
        "#Import Libraries"
      ]
    },
    {
      "cell_type": "code",
      "metadata": {
        "id": "yxb3eBnlbRgJ"
      },
      "source": [
        "import requests\n",
        "from bs4 import BeautifulSoup\n",
        "import csv\n",
        "import pandas as pd"
      ],
      "execution_count": 223,
      "outputs": []
    },
    {
      "cell_type": "code",
      "metadata": {
        "id": "SmK1VV3QbUl8"
      },
      "source": [
        "html = requests.get('https://www.theguardian.com/world/coronavirus-outbreak')\n",
        "soup = BeautifulSoup(html.text, 'html5lib')\n",
        "a = soup.find_all('a',{'class':'u-faux-block-link__overlay js-headline-text'})\n",
        "# print(span)"
      ],
      "execution_count": 224,
      "outputs": []
    },
    {
      "cell_type": "markdown",
      "metadata": {
        "id": "gSYEBUlrQKaW"
      },
      "source": [
        "Write to a CSV file"
      ]
    },
    {
      "cell_type": "code",
      "metadata": {
        "id": "Unl84kLFbXrw"
      },
      "source": [
        "mycsv = open('CoronaNews_Guardian.csv','w')\n",
        "fieldnames = ['Title','Author','Link']\n",
        "writer = csv.DictWriter(mycsv, fieldnames = fieldnames)\n",
        "writer.writeheader()"
      ],
      "execution_count": 225,
      "outputs": []
    },
    {
      "cell_type": "markdown",
      "metadata": {
        "id": "TSFrg_DxQPJ-"
      },
      "source": [
        "Extracting Headlines and Links:"
      ]
    },
    {
      "cell_type": "code",
      "metadata": {
        "colab": {
          "base_uri": "https://localhost:8080/"
        },
        "id": "fsXTQetbbdjP",
        "outputId": "bb112846-ebb3-46c3-b349-af239f68f86b"
      },
      "source": [
        "for link in a:\n",
        "    mylink = BeautifulSoup(str(link), 'html.parser')\n",
        "    gettinlink = mylink.find('a', href = True)\n",
        "    # writer.writerow({'Title':str(gettinlink.find(text = True)),'Link':str(gettinlink['href'])})\n",
        "    new = str(gettinlink['href'])\n",
        "    html = requests.get(new)\n",
        "    soup = BeautifulSoup(html.text, 'html5lib')\n",
        "    div = soup.find_all('div',{'class':'css-q1awta'})\n",
        "    # mycsv = open('CoronaNews_Guardian.csv','w')\n",
        "    for link in div:\n",
        "      mylink = BeautifulSoup(str(link), 'html.parser')\n",
        "      gettinlink1 = mylink.find('div')\n",
        "      # writer.writerow({'Author':str(gettinlink.find(text = True))})\n",
        "    writer.writerow({'Title':str(gettinlink.find(text = True)),'Author':str(gettinlink1.find(text = True)),'Link':str(gettinlink['href'])})\n",
        "mycsv.close()\n",
        "\n",
        "# mycsv.close()\n",
        "\n",
        "print(\"CSV has been generated\")"
      ],
      "execution_count": 226,
      "outputs": [
        {
          "output_type": "stream",
          "text": [
            "CSV has been generated\n"
          ],
          "name": "stdout"
        }
      ]
    },
    {
      "cell_type": "markdown",
      "metadata": {
        "id": "IQnBmU1nQVk3"
      },
      "source": [
        "Storing Links of each articles in a new variable to fetch the author's name from the relative links"
      ]
    },
    {
      "cell_type": "code",
      "metadata": {
        "colab": {
          "base_uri": "https://localhost:8080/"
        },
        "id": "zHDSg6gEHiNb",
        "outputId": "a5f5fb0d-9a3f-4fc1-d4b9-c8f73b21d7d5"
      },
      "source": [
        "df = pd.read_csv(\"CoronaNews_Guardian.csv\", usecols = fieldnames)\n",
        "line = len(list(df))\n",
        "new_html = []\n",
        "for line in df:\n",
        "    new_html = df[\"Link\"]\n",
        "    # print(new_html)\n",
        "length = len(new_html)\n",
        "print(length)\n",
        "# print(new_html[1])"
      ],
      "execution_count": 227,
      "outputs": [
        {
          "output_type": "stream",
          "text": [
            "56\n"
          ],
          "name": "stdout"
        }
      ]
    },
    {
      "cell_type": "code",
      "metadata": {
        "id": "6X8FofTbjlbV"
      },
      "source": [
        "# html = requests.get('https://www.theguardian.com/world/2021/apr/08/covid-uk-coronavirus-cases-deaths-and-vaccinations-today')\n",
        "# soup = BeautifulSoup(html.text, 'html5lib')\n",
        "# div = soup.find_all('div',{'class':'css-q1awta'})\n",
        "\n",
        "# # mycsv = open('CoronaNews_Guardian.csv','w')\n",
        "\n",
        "# for link in div:\n",
        "#     mylink = BeautifulSoup(str(link), 'html.parser')\n",
        "#     gettinlink = mylink.find('div')\n",
        "#     writer.writerow({'Author':str(gettinlink.find(text = True))})\n",
        "\n",
        "# mycsv.close()"
      ],
      "execution_count": 228,
      "outputs": []
    }
  ]
}