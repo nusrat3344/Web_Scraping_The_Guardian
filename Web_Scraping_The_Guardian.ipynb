{
  "nbformat": 4,
  "nbformat_minor": 0,
  "metadata": {
    "colab": {
      "name": "Web_Scraping_The_Guardian.ipynb",
      "provenance": [],
      "authorship_tag": "ABX9TyO7uAZAj0UEeyTy0TOHM/oR",
      "include_colab_link": true
    },
    "kernelspec": {
      "name": "python3",
      "display_name": "Python 3"
    },
    "language_info": {
      "name": "python"
    }
  },
  "cells": [
    {
      "cell_type": "markdown",
      "metadata": {
        "id": "view-in-github",
        "colab_type": "text"
      },
      "source": [
        "<a href=\"https://colab.research.google.com/github/nusrat3344/Web_Scraping_The_Guardian/blob/main/Web_Scraping_The_Guardian.ipynb\" target=\"_parent\"><img src=\"https://colab.research.google.com/assets/colab-badge.svg\" alt=\"Open In Colab\"/></a>"
      ]
    },
    {
      "cell_type": "markdown",
      "metadata": {
        "id": "p01W3L99Pp1o"
      },
      "source": [
        "#Import Libraries"
      ]
    },
    {
      "cell_type": "code",
      "metadata": {
        "id": "yxb3eBnlbRgJ"
      },
      "source": [
        "import requests\n",
        "from bs4 import BeautifulSoup\n",
        "import csv\n",
        "import pandas as pd"
      ],
      "execution_count": 195,
      "outputs": []
    },
    {
      "cell_type": "code",
      "metadata": {
        "id": "SmK1VV3QbUl8"
      },
      "source": [
        "html = requests.get('https://www.theguardian.com/world/coronavirus-outbreak')\n",
        "soup = BeautifulSoup(html.text, 'html5lib')\n",
        "a = soup.find_all('a',{'class':'u-faux-block-link__overlay js-headline-text'})\n",
        "# print(span)"
      ],
      "execution_count": 196,
      "outputs": []
    },
    {
      "cell_type": "markdown",
      "metadata": {
        "id": "gSYEBUlrQKaW"
      },
      "source": [
        "Write to a CSV file"
      ]
    },
    {
      "cell_type": "code",
      "metadata": {
        "id": "Unl84kLFbXrw"
      },
      "source": [
        "mycsv = open('CoronaNews_Guardian.csv','w')\n",
        "fieldnames = ['Title','Author','Link']\n",
        "writer = csv.DictWriter(mycsv, fieldnames = fieldnames)\n",
        "writer.writeheader()"
      ],
      "execution_count": 197,
      "outputs": []
    },
    {
      "cell_type": "code",
      "metadata": {
        "id": "EEFaNLNRWWXl"
      },
      "source": [
        "def joinStrings(stringList):\n",
        "    return ''.join(string for string in stringList)"
      ],
      "execution_count": 198,
      "outputs": []
    },
    {
      "cell_type": "markdown",
      "metadata": {
        "id": "TSFrg_DxQPJ-"
      },
      "source": [
        "Extracting Headlines, Links and authors:"
      ]
    },
    {
      "cell_type": "code",
      "metadata": {
        "id": "fsXTQetbbdjP"
      },
      "source": [
        "for link in a:\n",
        "    mylink = BeautifulSoup(str(link), 'html.parser')\n",
        "    gettinlink = mylink.find('a', href = True)\n",
        "    \n",
        "    new = str(gettinlink['href'])\n",
        "    html = requests.get(new)\n",
        "    soup = BeautifulSoup(html.text, 'html5lib')\n",
        "    a1 = soup.find_all('a',{'rel':'author'})\n",
        "    \n",
        "    arr_author = \"\"\n",
        "    for link in a1:\n",
        "      mylink = BeautifulSoup(str(link), 'html.parser')\n",
        "      gettinlink1 = mylink.find('a')\n",
        "      \n",
        "      for link in gettinlink1:\n",
        "          arr_author = arr_author + str(gettinlink1.find(text = True)) + ' \\n'\n",
        "  \n",
        "    writer.writerow({'Title':str(gettinlink.find(text = True)),'Author':arr_author,'Link':str(gettinlink['href'])})\n",
        "    \n",
        "mycsv.close()\n",
        "\n",
        "print(\"CSV has been generated\")"
      ],
      "execution_count": null,
      "outputs": []
    }
  ]
}